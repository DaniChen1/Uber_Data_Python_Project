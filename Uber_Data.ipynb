{
 "cells": [
  {
   "cell_type": "markdown",
   "metadata": {},
   "source": [
    "# Uber Data Analysis\n",
    "## Uber Pickups Numbers in New York City \n",
    "## Xiaodan Chen \n",
    "## 2021-10-14"
   ]
  },
  {
   "cell_type": "markdown",
   "metadata": {},
   "source": [
    "### Importing the Essential Packages"
   ]
  },
  {
   "cell_type": "code",
   "execution_count": 1,
   "metadata": {},
   "outputs": [],
   "source": [
    "import pandas as pd\n",
    "import numpy as np\n",
    "import matplotlib.pyplot as plt\n",
    "import seaborn as sns"
   ]
  },
  {
   "cell_type": "markdown",
   "metadata": {},
   "source": [
    "### Reading Data"
   ]
  },
  {
   "cell_type": "code",
   "execution_count": 2,
   "metadata": {},
   "outputs": [],
   "source": [
    "uber_df = pd.read_csv('/Users/dani/Desktop/Python_Project/Uber/uber_dataset.csv')"
   ]
  },
  {
   "cell_type": "code",
   "execution_count": 3,
   "metadata": {},
   "outputs": [
    {
     "data": {
      "text/html": [
       "<div>\n",
       "<style scoped>\n",
       "    .dataframe tbody tr th:only-of-type {\n",
       "        vertical-align: middle;\n",
       "    }\n",
       "\n",
       "    .dataframe tbody tr th {\n",
       "        vertical-align: top;\n",
       "    }\n",
       "\n",
       "    .dataframe thead th {\n",
       "        text-align: right;\n",
       "    }\n",
       "</style>\n",
       "<table border=\"1\" class=\"dataframe\">\n",
       "  <thead>\n",
       "    <tr style=\"text-align: right;\">\n",
       "      <th></th>\n",
       "      <th>Unnamed: 0</th>\n",
       "      <th>Date.Time</th>\n",
       "      <th>Lat</th>\n",
       "      <th>Lon</th>\n",
       "      <th>Base</th>\n",
       "      <th>Time</th>\n",
       "      <th>day</th>\n",
       "      <th>month</th>\n",
       "      <th>year</th>\n",
       "      <th>dayofweek</th>\n",
       "      <th>hour</th>\n",
       "      <th>minute</th>\n",
       "      <th>second</th>\n",
       "    </tr>\n",
       "  </thead>\n",
       "  <tbody>\n",
       "    <tr>\n",
       "      <th>4534322</th>\n",
       "      <td>4534323</td>\n",
       "      <td>2014-09-30 22:57:00</td>\n",
       "      <td>40.7668</td>\n",
       "      <td>-73.9845</td>\n",
       "      <td>B02764</td>\n",
       "      <td>22:57:00</td>\n",
       "      <td>30</td>\n",
       "      <td>Sep</td>\n",
       "      <td>2014</td>\n",
       "      <td>Tue</td>\n",
       "      <td>22</td>\n",
       "      <td>57</td>\n",
       "      <td>0</td>\n",
       "    </tr>\n",
       "    <tr>\n",
       "      <th>4534323</th>\n",
       "      <td>4534324</td>\n",
       "      <td>2014-09-30 22:57:00</td>\n",
       "      <td>40.6911</td>\n",
       "      <td>-74.1773</td>\n",
       "      <td>B02764</td>\n",
       "      <td>22:57:00</td>\n",
       "      <td>30</td>\n",
       "      <td>Sep</td>\n",
       "      <td>2014</td>\n",
       "      <td>Tue</td>\n",
       "      <td>22</td>\n",
       "      <td>57</td>\n",
       "      <td>0</td>\n",
       "    </tr>\n",
       "    <tr>\n",
       "      <th>4534324</th>\n",
       "      <td>4534325</td>\n",
       "      <td>2014-09-30 22:58:00</td>\n",
       "      <td>40.8519</td>\n",
       "      <td>-73.9319</td>\n",
       "      <td>B02764</td>\n",
       "      <td>22:58:00</td>\n",
       "      <td>30</td>\n",
       "      <td>Sep</td>\n",
       "      <td>2014</td>\n",
       "      <td>Tue</td>\n",
       "      <td>22</td>\n",
       "      <td>58</td>\n",
       "      <td>0</td>\n",
       "    </tr>\n",
       "    <tr>\n",
       "      <th>4534325</th>\n",
       "      <td>4534326</td>\n",
       "      <td>2014-09-30 22:58:00</td>\n",
       "      <td>40.7081</td>\n",
       "      <td>-74.0066</td>\n",
       "      <td>B02764</td>\n",
       "      <td>22:58:00</td>\n",
       "      <td>30</td>\n",
       "      <td>Sep</td>\n",
       "      <td>2014</td>\n",
       "      <td>Tue</td>\n",
       "      <td>22</td>\n",
       "      <td>58</td>\n",
       "      <td>0</td>\n",
       "    </tr>\n",
       "    <tr>\n",
       "      <th>4534326</th>\n",
       "      <td>4534327</td>\n",
       "      <td>2014-09-30 22:58:00</td>\n",
       "      <td>40.7140</td>\n",
       "      <td>-73.9496</td>\n",
       "      <td>B02764</td>\n",
       "      <td>22:58:00</td>\n",
       "      <td>30</td>\n",
       "      <td>Sep</td>\n",
       "      <td>2014</td>\n",
       "      <td>Tue</td>\n",
       "      <td>22</td>\n",
       "      <td>58</td>\n",
       "      <td>0</td>\n",
       "    </tr>\n",
       "  </tbody>\n",
       "</table>\n",
       "</div>"
      ],
      "text/plain": [
       "         Unnamed: 0            Date.Time      Lat      Lon    Base      Time  \\\n",
       "4534322     4534323  2014-09-30 22:57:00  40.7668 -73.9845  B02764  22:57:00   \n",
       "4534323     4534324  2014-09-30 22:57:00  40.6911 -74.1773  B02764  22:57:00   \n",
       "4534324     4534325  2014-09-30 22:58:00  40.8519 -73.9319  B02764  22:58:00   \n",
       "4534325     4534326  2014-09-30 22:58:00  40.7081 -74.0066  B02764  22:58:00   \n",
       "4534326     4534327  2014-09-30 22:58:00  40.7140 -73.9496  B02764  22:58:00   \n",
       "\n",
       "         day month  year dayofweek  hour  minute  second  \n",
       "4534322   30   Sep  2014       Tue    22      57       0  \n",
       "4534323   30   Sep  2014       Tue    22      57       0  \n",
       "4534324   30   Sep  2014       Tue    22      58       0  \n",
       "4534325   30   Sep  2014       Tue    22      58       0  \n",
       "4534326   30   Sep  2014       Tue    22      58       0  "
      ]
     },
     "execution_count": 3,
     "metadata": {},
     "output_type": "execute_result"
    }
   ],
   "source": [
    "uber_df.tail(5)"
   ]
  },
  {
   "cell_type": "markdown",
   "metadata": {},
   "source": [
    "### Data Structure"
   ]
  },
  {
   "cell_type": "markdown",
   "metadata": {},
   "source": [
    "This dataset contains more than 4.5 millions observations and 13 columns."
   ]
  },
  {
   "cell_type": "code",
   "execution_count": 4,
   "metadata": {},
   "outputs": [
    {
     "data": {
      "text/plain": [
       "(4534327, 13)"
      ]
     },
     "execution_count": 4,
     "metadata": {},
     "output_type": "execute_result"
    }
   ],
   "source": [
    "uber_df.shape"
   ]
  },
  {
   "cell_type": "code",
   "execution_count": 5,
   "metadata": {},
   "outputs": [
    {
     "name": "stdout",
     "output_type": "stream",
     "text": [
      "<class 'pandas.core.frame.DataFrame'>\n",
      "RangeIndex: 4534327 entries, 0 to 4534326\n",
      "Data columns (total 13 columns):\n",
      " #   Column      Dtype  \n",
      "---  ------      -----  \n",
      " 0   Unnamed: 0  int64  \n",
      " 1   Date.Time   object \n",
      " 2   Lat         float64\n",
      " 3   Lon         float64\n",
      " 4   Base        object \n",
      " 5   Time        object \n",
      " 6   day         int64  \n",
      " 7   month       object \n",
      " 8   year        int64  \n",
      " 9   dayofweek   object \n",
      " 10  hour        int64  \n",
      " 11  minute      int64  \n",
      " 12  second      int64  \n",
      "dtypes: float64(2), int64(6), object(5)\n",
      "memory usage: 449.7+ MB\n"
     ]
    }
   ],
   "source": [
    "uber_df.info()"
   ]
  },
  {
   "cell_type": "markdown",
   "metadata": {},
   "source": [
    "### Checking any Missing Values"
   ]
  },
  {
   "cell_type": "code",
   "execution_count": 6,
   "metadata": {},
   "outputs": [
    {
     "data": {
      "text/plain": [
       "False"
      ]
     },
     "execution_count": 6,
     "metadata": {},
     "output_type": "execute_result"
    }
   ],
   "source": [
    "uber_df.isnull().values.any()"
   ]
  },
  {
   "cell_type": "markdown",
   "metadata": {},
   "source": [
    "### Number of Trips in a Day"
   ]
  },
  {
   "cell_type": "markdown",
   "metadata": {},
   "source": [
    "The number of trips that the passengers made in a day, showing the number of passengers fares throughout the day. "
   ]
  },
  {
   "cell_type": "code",
   "execution_count": 6,
   "metadata": {},
   "outputs": [
    {
     "data": {
      "text/plain": [
       "17    336190\n",
       "18    324679\n",
       "16    313400\n",
       "19    294513\n",
       "20    284604\n",
       "21    281460\n",
       "15    275466\n",
       "22    241858\n",
       "14    230625\n",
       "13    195877\n",
       "7     193094\n",
       "8     190504\n",
       "12    170452\n",
       "23    169190\n",
       "11    165703\n",
       "9     159967\n",
       "10    159148\n",
       "6     143213\n",
       "0     103836\n",
       "5      83939\n",
       "1      67227\n",
       "4      55230\n",
       "3      48287\n",
       "2      45865\n",
       "Name: hour, dtype: int64"
      ]
     },
     "execution_count": 6,
     "metadata": {},
     "output_type": "execute_result"
    }
   ],
   "source": [
    "hour = uber_df['hour']\n",
    "hour_df = hour.value_counts()\n",
    "hour_df"
   ]
  },
  {
   "cell_type": "markdown",
   "metadata": {},
   "source": [
    "The number of trips are higher in the evening around 5:00 and 6:00 PM. "
   ]
  },
  {
   "cell_type": "code",
   "execution_count": 4,
   "metadata": {},
   "outputs": [
    {
     "data": {
      "text/plain": [
       "[Text(0.5, 1.0, 'Number of Trips in a Day')]"
      ]
     },
     "execution_count": 4,
     "metadata": {},
     "output_type": "execute_result"
    },
    {
     "data": {
      "image/png": "[encoded data removed]",
      "text/plain": [
       "<Figure size 432x288 with 1 Axes>"
      ]
     },
     "metadata": {
      "needs_background": "light"
     },
     "output_type": "display_data"
    }
   ],
   "source": [
    "fig, ax = plt.subplots()\n",
    "sns.countplot(data=uber_df, x = 'hour')\n",
    "ax.set(title = 'Number of Trips in a Day')"
   ]
  },
  {
   "cell_type": "markdown",
   "metadata": {},
   "source": [
    "### Number of Trips during Every Day of the Month"
   ]
  },
  {
   "cell_type": "markdown",
   "metadata": {},
   "source": [
    "The result shows the 30th of the month had the higest trips in the year. "
   ]
  },
  {
   "cell_type": "code",
   "execution_count": 8,
   "metadata": {},
   "outputs": [
    {
     "data": {
      "text/plain": [
       "30    167160\n",
       "12    160606\n",
       "16    158921\n",
       "13    156892\n",
       "23    156032\n",
       "9     155135\n",
       "15    153726\n",
       "26    153405\n",
       "19    153088\n",
       "25    152667\n",
       "17    152524\n",
       "10    152500\n",
       "18    151319\n",
       "29    149086\n",
       "11    148860\n",
       "5     147054\n",
       "22    146952\n",
       "8     145984\n",
       "27    145652\n",
       "20    144179\n",
       "24    144169\n",
       "7     143503\n",
       "2     143201\n",
       "3     142983\n",
       "28    141157\n",
       "21    141112\n",
       "4     140923\n",
       "14    140148\n",
       "6     139886\n",
       "1     127430\n",
       "31     78073\n",
       "Name: day, dtype: int64"
      ]
     },
     "execution_count": 8,
     "metadata": {},
     "output_type": "execute_result"
    }
   ],
   "source": [
    "day = uber_df['day']\n",
    "day_df = day.value_counts()\n",
    "day_df"
   ]
  },
  {
   "cell_type": "code",
   "execution_count": 5,
   "metadata": {},
   "outputs": [
    {
     "data": {
      "text/plain": [
       "[Text(0.5, 1.0, 'Number of Trips During Every day of the Month')]"
      ]
     },
     "execution_count": 5,
     "metadata": {},
     "output_type": "execute_result"
    },
    {
     "data": {
      "image/png": "[encoded data removed]",
      "text/plain": [
       "<Figure size 432x288 with 1 Axes>"
      ]
     },
     "metadata": {
      "needs_background": "light"
     },
     "output_type": "display_data"
    }
   ],
   "source": [
    "fig, ax = plt.subplots()\n",
    "sns.countplot(data=uber_df, x = 'day')\n",
    "ax.set(title = 'Number of Trips During Every day of the Month')"
   ]
  },
  {
   "cell_type": "markdown",
   "metadata": {},
   "source": [
    "### Number of Trips on Every Day of the Week"
   ]
  },
  {
   "cell_type": "code",
   "execution_count": 10,
   "metadata": {},
   "outputs": [
    {
     "data": {
      "text/plain": [
       "Thu    755145\n",
       "Fri    741139\n",
       "Wed    696488\n",
       "Tue    663789\n",
       "Sat    646114\n",
       "Mon    541472\n",
       "Sun    490180\n",
       "Name: dayofweek, dtype: int64"
      ]
     },
     "execution_count": 10,
     "metadata": {},
     "output_type": "execute_result"
    }
   ],
   "source": [
    "week = uber_df['dayofweek']\n",
    "week_df = week.value_counts()\n",
    "week_df"
   ]
  },
  {
   "cell_type": "code",
   "execution_count": 13,
   "metadata": {},
   "outputs": [
    {
     "data": {
      "text/plain": [
       "[Text(0.5, 1.0, 'Number of Trips on Every Day of the Week')]"
      ]
     },
     "execution_count": 13,
     "metadata": {},
     "output_type": "execute_result"
    },
    {
     "data": {
      "image/png": "[encoded data removed]",
      "text/plain": [
       "<Figure size 432x288 with 1 Axes>"
      ]
     },
     "metadata": {
      "needs_background": "light"
     },
     "output_type": "display_data"
    }
   ],
   "source": [
    "fig, ax = plt.subplots()\n",
    "sns.countplot(data=uber_df, x = 'dayofweek')\n",
    "ax.set(title = 'Number of Trips on Every Day of the Week')"
   ]
  },
  {
   "cell_type": "code",
   "execution_count": 12,
   "metadata": {},
   "outputs": [
    {
     "data": {
      "text/plain": [
       "Sep    1028136\n",
       "Aug     829275\n",
       "Jul     796121\n",
       "Jun     663844\n",
       "May     652435\n",
       "Apr     564516\n",
       "Name: month, dtype: int64"
      ]
     },
     "execution_count": 12,
     "metadata": {},
     "output_type": "execute_result"
    }
   ],
   "source": [
    "month = uber_df['month']\n",
    "month_df = month.value_counts()\n",
    "month_df"
   ]
  },
  {
   "cell_type": "markdown",
   "metadata": {},
   "source": [
    "### Number of Trips Taking Place during Months in a Year"
   ]
  },
  {
   "cell_type": "code",
   "execution_count": 14,
   "metadata": {},
   "outputs": [
    {
     "data": {
      "text/plain": [
       "[Text(0.5, 1.0, 'Number of Trips During Months in a Year')]"
      ]
     },
     "execution_count": 14,
     "metadata": {},
     "output_type": "execute_result"
    },
    {
     "data": {
      "image/png": "[encoded data removed]",
      "text/plain": [
       "<Figure size 432x288 with 1 Axes>"
      ]
     },
     "metadata": {
      "needs_background": "light"
     },
     "output_type": "display_data"
    }
   ],
   "source": [
    "fig, ax = plt.subplots()\n",
    "sns.countplot(data = uber_df, x = 'month')\n",
    "ax.set(title = 'Number of Trips During Months in a Year')"
   ]
  },
  {
   "cell_type": "code",
   "execution_count": 23,
   "metadata": {},
   "outputs": [
    {
     "data": {
      "text/html": [
       "<div>\n",
       "<style scoped>\n",
       "    .dataframe tbody tr th:only-of-type {\n",
       "        vertical-align: middle;\n",
       "    }\n",
       "\n",
       "    .dataframe tbody tr th {\n",
       "        vertical-align: top;\n",
       "    }\n",
       "\n",
       "    .dataframe thead th {\n",
       "        text-align: right;\n",
       "    }\n",
       "</style>\n",
       "<table border=\"1\" class=\"dataframe\">\n",
       "  <thead>\n",
       "    <tr style=\"text-align: right;\">\n",
       "      <th></th>\n",
       "      <th></th>\n",
       "      <th>Date.Time</th>\n",
       "    </tr>\n",
       "    <tr>\n",
       "      <th>month</th>\n",
       "      <th>dayofweek</th>\n",
       "      <th></th>\n",
       "    </tr>\n",
       "  </thead>\n",
       "  <tbody>\n",
       "    <tr>\n",
       "      <th rowspan=\"7\" valign=\"top\">Apr</th>\n",
       "      <th>Fri</th>\n",
       "      <td>90303</td>\n",
       "    </tr>\n",
       "    <tr>\n",
       "      <th>Mon</th>\n",
       "      <td>60861</td>\n",
       "    </tr>\n",
       "    <tr>\n",
       "      <th>Sat</th>\n",
       "      <td>77218</td>\n",
       "    </tr>\n",
       "    <tr>\n",
       "      <th>Sun</th>\n",
       "      <td>51251</td>\n",
       "    </tr>\n",
       "    <tr>\n",
       "      <th>Thu</th>\n",
       "      <td>85067</td>\n",
       "    </tr>\n",
       "    <tr>\n",
       "      <th>Tue</th>\n",
       "      <td>91185</td>\n",
       "    </tr>\n",
       "    <tr>\n",
       "      <th>Wed</th>\n",
       "      <td>108631</td>\n",
       "    </tr>\n",
       "    <tr>\n",
       "      <th rowspan=\"7\" valign=\"top\">Aug</th>\n",
       "      <th>Fri</th>\n",
       "      <td>148674</td>\n",
       "    </tr>\n",
       "    <tr>\n",
       "      <th>Mon</th>\n",
       "      <td>91633</td>\n",
       "    </tr>\n",
       "    <tr>\n",
       "      <th>Sat</th>\n",
       "      <td>132225</td>\n",
       "    </tr>\n",
       "    <tr>\n",
       "      <th>Sun</th>\n",
       "      <td>110246</td>\n",
       "    </tr>\n",
       "    <tr>\n",
       "      <th>Thu</th>\n",
       "      <td>124117</td>\n",
       "    </tr>\n",
       "    <tr>\n",
       "      <th>Tue</th>\n",
       "      <td>107124</td>\n",
       "    </tr>\n",
       "    <tr>\n",
       "      <th>Wed</th>\n",
       "      <td>115256</td>\n",
       "    </tr>\n",
       "    <tr>\n",
       "      <th rowspan=\"7\" valign=\"top\">Jul</th>\n",
       "      <th>Fri</th>\n",
       "      <td>102735</td>\n",
       "    </tr>\n",
       "    <tr>\n",
       "      <th>Mon</th>\n",
       "      <td>93189</td>\n",
       "    </tr>\n",
       "    <tr>\n",
       "      <th>Sat</th>\n",
       "      <td>90260</td>\n",
       "    </tr>\n",
       "    <tr>\n",
       "      <th>Sun</th>\n",
       "      <td>76327</td>\n",
       "    </tr>\n",
       "    <tr>\n",
       "      <th>Thu</th>\n",
       "      <td>148439</td>\n",
       "    </tr>\n",
       "    <tr>\n",
       "      <th>Tue</th>\n",
       "      <td>137454</td>\n",
       "    </tr>\n",
       "    <tr>\n",
       "      <th>Wed</th>\n",
       "      <td>147717</td>\n",
       "    </tr>\n",
       "    <tr>\n",
       "      <th rowspan=\"7\" valign=\"top\">Jun</th>\n",
       "      <th>Fri</th>\n",
       "      <td>105056</td>\n",
       "    </tr>\n",
       "    <tr>\n",
       "      <th>Mon</th>\n",
       "      <td>94655</td>\n",
       "    </tr>\n",
       "    <tr>\n",
       "      <th>Sat</th>\n",
       "      <td>81364</td>\n",
       "    </tr>\n",
       "    <tr>\n",
       "      <th>Sun</th>\n",
       "      <td>79656</td>\n",
       "    </tr>\n",
       "    <tr>\n",
       "      <th>Thu</th>\n",
       "      <td>115325</td>\n",
       "    </tr>\n",
       "    <tr>\n",
       "      <th>Tue</th>\n",
       "      <td>88134</td>\n",
       "    </tr>\n",
       "    <tr>\n",
       "      <th>Wed</th>\n",
       "      <td>99654</td>\n",
       "    </tr>\n",
       "    <tr>\n",
       "      <th rowspan=\"7\" valign=\"top\">May</th>\n",
       "      <th>Fri</th>\n",
       "      <td>133991</td>\n",
       "    </tr>\n",
       "    <tr>\n",
       "      <th>Mon</th>\n",
       "      <td>63846</td>\n",
       "    </tr>\n",
       "    <tr>\n",
       "      <th>Sat</th>\n",
       "      <td>102990</td>\n",
       "    </tr>\n",
       "    <tr>\n",
       "      <th>Sun</th>\n",
       "      <td>56168</td>\n",
       "    </tr>\n",
       "    <tr>\n",
       "      <th>Thu</th>\n",
       "      <td>128921</td>\n",
       "    </tr>\n",
       "    <tr>\n",
       "      <th>Tue</th>\n",
       "      <td>76662</td>\n",
       "    </tr>\n",
       "    <tr>\n",
       "      <th>Wed</th>\n",
       "      <td>89857</td>\n",
       "    </tr>\n",
       "    <tr>\n",
       "      <th rowspan=\"7\" valign=\"top\">Sep</th>\n",
       "      <th>Fri</th>\n",
       "      <td>160380</td>\n",
       "    </tr>\n",
       "    <tr>\n",
       "      <th>Mon</th>\n",
       "      <td>137288</td>\n",
       "    </tr>\n",
       "    <tr>\n",
       "      <th>Sat</th>\n",
       "      <td>162057</td>\n",
       "    </tr>\n",
       "    <tr>\n",
       "      <th>Sun</th>\n",
       "      <td>116532</td>\n",
       "    </tr>\n",
       "    <tr>\n",
       "      <th>Thu</th>\n",
       "      <td>153276</td>\n",
       "    </tr>\n",
       "    <tr>\n",
       "      <th>Tue</th>\n",
       "      <td>163230</td>\n",
       "    </tr>\n",
       "    <tr>\n",
       "      <th>Wed</th>\n",
       "      <td>135373</td>\n",
       "    </tr>\n",
       "  </tbody>\n",
       "</table>\n",
       "</div>"
      ],
      "text/plain": [
       "                 Date.Time\n",
       "month dayofweek           \n",
       "Apr   Fri            90303\n",
       "      Mon            60861\n",
       "      Sat            77218\n",
       "      Sun            51251\n",
       "      Thu            85067\n",
       "      Tue            91185\n",
       "      Wed           108631\n",
       "Aug   Fri           148674\n",
       "      Mon            91633\n",
       "      Sat           132225\n",
       "      Sun           110246\n",
       "      Thu           124117\n",
       "      Tue           107124\n",
       "      Wed           115256\n",
       "Jul   Fri           102735\n",
       "      Mon            93189\n",
       "      Sat            90260\n",
       "      Sun            76327\n",
       "      Thu           148439\n",
       "      Tue           137454\n",
       "      Wed           147717\n",
       "Jun   Fri           105056\n",
       "      Mon            94655\n",
       "      Sat            81364\n",
       "      Sun            79656\n",
       "      Thu           115325\n",
       "      Tue            88134\n",
       "      Wed            99654\n",
       "May   Fri           133991\n",
       "      Mon            63846\n",
       "      Sat           102990\n",
       "      Sun            56168\n",
       "      Thu           128921\n",
       "      Tue            76662\n",
       "      Wed            89857\n",
       "Sep   Fri           160380\n",
       "      Mon           137288\n",
       "      Sat           162057\n",
       "      Sun           116532\n",
       "      Thu           153276\n",
       "      Tue           163230\n",
       "      Wed           135373"
      ]
     },
     "execution_count": 23,
     "metadata": {},
     "output_type": "execute_result"
    }
   ],
   "source": [
    "week_month = uber_df[['month', 'dayofweek', 'Date.Time']]\n",
    "week_month = week_month.groupby(['month', 'dayofweek']).agg('count')\n",
    "week_month"
   ]
  },
  {
   "cell_type": "markdown",
   "metadata": {},
   "source": [
    "### Number of Trips on Day of Week during Months"
   ]
  },
  {
   "cell_type": "code",
   "execution_count": 27,
   "metadata": {},
   "outputs": [
    {
     "data": {
      "text/plain": [
       "<matplotlib.legend.Legend at 0x7fa95231be10>"
      ]
     },
     "execution_count": 27,
     "metadata": {},
     "output_type": "execute_result"
    },
    {
     "data": {
      "image/png": "[encoded data removed]",
      "text/plain": [
       "<Figure size 432x288 with 1 Axes>"
      ]
     },
     "metadata": {
      "needs_background": "light"
     },
     "output_type": "display_data"
    }
   ],
   "source": [
    "fig, ax = plt.subplots()\n",
    "sns.countplot(x='month', data = uber_df, hue = 'dayofweek')\n",
    "ax.set(title = 'Number of Trips on Day of Week during Months')\n",
    "plt.legend(bbox_to_anchor=(1.05, 1), loc=2, borderaxespad=0.)"
   ]
  },
  {
   "cell_type": "code",
   "execution_count": 24,
   "metadata": {},
   "outputs": [
    {
     "data": {
      "text/html": [
       "<div>\n",
       "<style scoped>\n",
       "    .dataframe tbody tr th:only-of-type {\n",
       "        vertical-align: middle;\n",
       "    }\n",
       "\n",
       "    .dataframe tbody tr th {\n",
       "        vertical-align: top;\n",
       "    }\n",
       "\n",
       "    .dataframe thead th {\n",
       "        text-align: right;\n",
       "    }\n",
       "</style>\n",
       "<table border=\"1\" class=\"dataframe\">\n",
       "  <thead>\n",
       "    <tr style=\"text-align: right;\">\n",
       "      <th>dayofweek</th>\n",
       "      <th>Fri</th>\n",
       "      <th>Mon</th>\n",
       "      <th>Sat</th>\n",
       "      <th>Sun</th>\n",
       "      <th>Thu</th>\n",
       "      <th>Tue</th>\n",
       "      <th>Wed</th>\n",
       "    </tr>\n",
       "    <tr>\n",
       "      <th>month</th>\n",
       "      <th></th>\n",
       "      <th></th>\n",
       "      <th></th>\n",
       "      <th></th>\n",
       "      <th></th>\n",
       "      <th></th>\n",
       "      <th></th>\n",
       "    </tr>\n",
       "  </thead>\n",
       "  <tbody>\n",
       "    <tr>\n",
       "      <th>Apr</th>\n",
       "      <td>90303</td>\n",
       "      <td>60861</td>\n",
       "      <td>77218</td>\n",
       "      <td>51251</td>\n",
       "      <td>85067</td>\n",
       "      <td>91185</td>\n",
       "      <td>108631</td>\n",
       "    </tr>\n",
       "    <tr>\n",
       "      <th>Aug</th>\n",
       "      <td>148674</td>\n",
       "      <td>91633</td>\n",
       "      <td>132225</td>\n",
       "      <td>110246</td>\n",
       "      <td>124117</td>\n",
       "      <td>107124</td>\n",
       "      <td>115256</td>\n",
       "    </tr>\n",
       "    <tr>\n",
       "      <th>Jul</th>\n",
       "      <td>102735</td>\n",
       "      <td>93189</td>\n",
       "      <td>90260</td>\n",
       "      <td>76327</td>\n",
       "      <td>148439</td>\n",
       "      <td>137454</td>\n",
       "      <td>147717</td>\n",
       "    </tr>\n",
       "    <tr>\n",
       "      <th>Jun</th>\n",
       "      <td>105056</td>\n",
       "      <td>94655</td>\n",
       "      <td>81364</td>\n",
       "      <td>79656</td>\n",
       "      <td>115325</td>\n",
       "      <td>88134</td>\n",
       "      <td>99654</td>\n",
       "    </tr>\n",
       "    <tr>\n",
       "      <th>May</th>\n",
       "      <td>133991</td>\n",
       "      <td>63846</td>\n",
       "      <td>102990</td>\n",
       "      <td>56168</td>\n",
       "      <td>128921</td>\n",
       "      <td>76662</td>\n",
       "      <td>89857</td>\n",
       "    </tr>\n",
       "    <tr>\n",
       "      <th>Sep</th>\n",
       "      <td>160380</td>\n",
       "      <td>137288</td>\n",
       "      <td>162057</td>\n",
       "      <td>116532</td>\n",
       "      <td>153276</td>\n",
       "      <td>163230</td>\n",
       "      <td>135373</td>\n",
       "    </tr>\n",
       "  </tbody>\n",
       "</table>\n",
       "</div>"
      ],
      "text/plain": [
       "dayofweek     Fri     Mon     Sat     Sun     Thu     Tue     Wed\n",
       "month                                                            \n",
       "Apr         90303   60861   77218   51251   85067   91185  108631\n",
       "Aug        148674   91633  132225  110246  124117  107124  115256\n",
       "Jul        102735   93189   90260   76327  148439  137454  147717\n",
       "Jun        105056   94655   81364   79656  115325   88134   99654\n",
       "May        133991   63846  102990   56168  128921   76662   89857\n",
       "Sep        160380  137288  162057  116532  153276  163230  135373"
      ]
     },
     "execution_count": 24,
     "metadata": {},
     "output_type": "execute_result"
    }
   ],
   "source": [
    "week_month = week_month.pivot_table(index='month', columns='dayofweek', values='Date.Time')\n",
    "week_month"
   ]
  },
  {
   "cell_type": "code",
   "execution_count": 40,
   "metadata": {},
   "outputs": [
    {
     "data": {
      "image/png": "[encoded data removed]",
      "text/plain": [
       "<Figure size 432x288 with 1 Axes>"
      ]
     },
     "metadata": {
      "needs_background": "light"
     },
     "output_type": "display_data"
    }
   ],
   "source": [
    "week_month.plot(kind='bar', stacked=True)\n",
    "plt.legend(bbox_to_anchor=(1.05, 1), loc=2, borderaxespad=0.)\n",
    "plt.show()"
   ]
  },
  {
   "cell_type": "markdown",
   "metadata": {},
   "source": [
    "### Number of Trips on Day during Months"
   ]
  },
  {
   "cell_type": "code",
   "execution_count": 46,
   "metadata": {},
   "outputs": [
    {
     "data": {
      "text/plain": [
       "<matplotlib.legend.Legend at 0x7fa972956a10>"
      ]
     },
     "execution_count": 46,
     "metadata": {},
     "output_type": "execute_result"
    },
    {
     "data": {
      "image/png": "[encoded data removed]",
      "text/plain": [
       "<Figure size 432x288 with 1 Axes>"
      ]
     },
     "metadata": {
      "needs_background": "light"
     },
     "output_type": "display_data"
    }
   ],
   "source": [
    "fig, ax = plt.subplots()\n",
    "sns.countplot(x='month', data = uber_df, hue = 'day')\n",
    "ax.set(title = 'Number of Trips on Day during Months')\n",
    "plt.legend(bbox_to_anchor=(1.05, 1), loc=2, borderaxespad=0., ncol=4)"
   ]
  },
  {
   "cell_type": "code",
   "execution_count": 42,
   "metadata": {},
   "outputs": [
    {
     "data": {
      "text/html": [
       "<div>\n",
       "<style scoped>\n",
       "    .dataframe tbody tr th:only-of-type {\n",
       "        vertical-align: middle;\n",
       "    }\n",
       "\n",
       "    .dataframe tbody tr th {\n",
       "        vertical-align: top;\n",
       "    }\n",
       "\n",
       "    .dataframe thead th {\n",
       "        text-align: right;\n",
       "    }\n",
       "</style>\n",
       "<table border=\"1\" class=\"dataframe\">\n",
       "  <thead>\n",
       "    <tr style=\"text-align: right;\">\n",
       "      <th>day</th>\n",
       "      <th>1</th>\n",
       "      <th>2</th>\n",
       "      <th>3</th>\n",
       "      <th>4</th>\n",
       "      <th>5</th>\n",
       "      <th>6</th>\n",
       "      <th>7</th>\n",
       "      <th>8</th>\n",
       "      <th>9</th>\n",
       "      <th>10</th>\n",
       "      <th>...</th>\n",
       "      <th>22</th>\n",
       "      <th>23</th>\n",
       "      <th>24</th>\n",
       "      <th>25</th>\n",
       "      <th>26</th>\n",
       "      <th>27</th>\n",
       "      <th>28</th>\n",
       "      <th>29</th>\n",
       "      <th>30</th>\n",
       "      <th>31</th>\n",
       "    </tr>\n",
       "    <tr>\n",
       "      <th>month</th>\n",
       "      <th></th>\n",
       "      <th></th>\n",
       "      <th></th>\n",
       "      <th></th>\n",
       "      <th></th>\n",
       "      <th></th>\n",
       "      <th></th>\n",
       "      <th></th>\n",
       "      <th></th>\n",
       "      <th></th>\n",
       "      <th></th>\n",
       "      <th></th>\n",
       "      <th></th>\n",
       "      <th></th>\n",
       "      <th></th>\n",
       "      <th></th>\n",
       "      <th></th>\n",
       "      <th></th>\n",
       "      <th></th>\n",
       "      <th></th>\n",
       "      <th></th>\n",
       "    </tr>\n",
       "  </thead>\n",
       "  <tbody>\n",
       "    <tr>\n",
       "      <th>Apr</th>\n",
       "      <td>14546.0</td>\n",
       "      <td>17474.0</td>\n",
       "      <td>20701.0</td>\n",
       "      <td>26714.0</td>\n",
       "      <td>19521.0</td>\n",
       "      <td>13445.0</td>\n",
       "      <td>19550.0</td>\n",
       "      <td>16188.0</td>\n",
       "      <td>16843.0</td>\n",
       "      <td>20041.0</td>\n",
       "      <td>...</td>\n",
       "      <td>16975.0</td>\n",
       "      <td>20346.0</td>\n",
       "      <td>23352.0</td>\n",
       "      <td>25095.0</td>\n",
       "      <td>24925.0</td>\n",
       "      <td>14677.0</td>\n",
       "      <td>15475.0</td>\n",
       "      <td>22835.0</td>\n",
       "      <td>36251.0</td>\n",
       "      <td>NaN</td>\n",
       "    </tr>\n",
       "    <tr>\n",
       "      <th>Aug</th>\n",
       "      <td>32353.0</td>\n",
       "      <td>28678.0</td>\n",
       "      <td>23146.0</td>\n",
       "      <td>24952.0</td>\n",
       "      <td>28094.0</td>\n",
       "      <td>30495.0</td>\n",
       "      <td>32759.0</td>\n",
       "      <td>30411.0</td>\n",
       "      <td>26286.0</td>\n",
       "      <td>20584.0</td>\n",
       "      <td>...</td>\n",
       "      <td>29512.0</td>\n",
       "      <td>27097.0</td>\n",
       "      <td>22036.0</td>\n",
       "      <td>22093.0</td>\n",
       "      <td>24550.0</td>\n",
       "      <td>27018.0</td>\n",
       "      <td>28597.0</td>\n",
       "      <td>27424.0</td>\n",
       "      <td>23930.0</td>\n",
       "      <td>23271.0</td>\n",
       "    </tr>\n",
       "    <tr>\n",
       "      <th>Jul</th>\n",
       "      <td>21228.0</td>\n",
       "      <td>26480.0</td>\n",
       "      <td>21597.0</td>\n",
       "      <td>14148.0</td>\n",
       "      <td>10890.0</td>\n",
       "      <td>11443.0</td>\n",
       "      <td>18280.0</td>\n",
       "      <td>25763.0</td>\n",
       "      <td>27817.0</td>\n",
       "      <td>30541.0</td>\n",
       "      <td>...</td>\n",
       "      <td>29029.0</td>\n",
       "      <td>34073.0</td>\n",
       "      <td>32050.0</td>\n",
       "      <td>29975.0</td>\n",
       "      <td>27708.0</td>\n",
       "      <td>22590.0</td>\n",
       "      <td>23981.0</td>\n",
       "      <td>27589.0</td>\n",
       "      <td>30740.0</td>\n",
       "      <td>33541.0</td>\n",
       "    </tr>\n",
       "    <tr>\n",
       "      <th>Jun</th>\n",
       "      <td>15967.0</td>\n",
       "      <td>17503.0</td>\n",
       "      <td>22674.0</td>\n",
       "      <td>22831.0</td>\n",
       "      <td>28371.0</td>\n",
       "      <td>24683.0</td>\n",
       "      <td>20889.0</td>\n",
       "      <td>15749.0</td>\n",
       "      <td>23244.0</td>\n",
       "      <td>22874.0</td>\n",
       "      <td>...</td>\n",
       "      <td>16322.0</td>\n",
       "      <td>17735.0</td>\n",
       "      <td>20779.0</td>\n",
       "      <td>26460.0</td>\n",
       "      <td>28516.0</td>\n",
       "      <td>24895.0</td>\n",
       "      <td>21208.0</td>\n",
       "      <td>17107.0</td>\n",
       "      <td>18395.0</td>\n",
       "      <td>NaN</td>\n",
       "    </tr>\n",
       "    <tr>\n",
       "      <th>May</th>\n",
       "      <td>23375.0</td>\n",
       "      <td>24235.0</td>\n",
       "      <td>22234.0</td>\n",
       "      <td>13918.0</td>\n",
       "      <td>17859.0</td>\n",
       "      <td>19300.0</td>\n",
       "      <td>21891.0</td>\n",
       "      <td>27513.0</td>\n",
       "      <td>26385.0</td>\n",
       "      <td>22550.0</td>\n",
       "      <td>...</td>\n",
       "      <td>26802.0</td>\n",
       "      <td>26465.0</td>\n",
       "      <td>14651.0</td>\n",
       "      <td>10841.0</td>\n",
       "      <td>10202.0</td>\n",
       "      <td>17004.0</td>\n",
       "      <td>22240.0</td>\n",
       "      <td>24930.0</td>\n",
       "      <td>24413.0</td>\n",
       "      <td>21261.0</td>\n",
       "    </tr>\n",
       "    <tr>\n",
       "      <th>Sep</th>\n",
       "      <td>19961.0</td>\n",
       "      <td>28831.0</td>\n",
       "      <td>32631.0</td>\n",
       "      <td>38360.0</td>\n",
       "      <td>42319.0</td>\n",
       "      <td>40520.0</td>\n",
       "      <td>30134.0</td>\n",
       "      <td>30360.0</td>\n",
       "      <td>34560.0</td>\n",
       "      <td>35910.0</td>\n",
       "      <td>...</td>\n",
       "      <td>28312.0</td>\n",
       "      <td>30316.0</td>\n",
       "      <td>31301.0</td>\n",
       "      <td>38203.0</td>\n",
       "      <td>37504.0</td>\n",
       "      <td>39468.0</td>\n",
       "      <td>29656.0</td>\n",
       "      <td>29201.0</td>\n",
       "      <td>33431.0</td>\n",
       "      <td>NaN</td>\n",
       "    </tr>\n",
       "  </tbody>\n",
       "</table>\n",
       "<p>6 rows × 31 columns</p>\n",
       "</div>"
      ],
      "text/plain": [
       "day         1        2        3        4        5        6        7        8   \\\n",
       "month                                                                           \n",
       "Apr    14546.0  17474.0  20701.0  26714.0  19521.0  13445.0  19550.0  16188.0   \n",
       "Aug    32353.0  28678.0  23146.0  24952.0  28094.0  30495.0  32759.0  30411.0   \n",
       "Jul    21228.0  26480.0  21597.0  14148.0  10890.0  11443.0  18280.0  25763.0   \n",
       "Jun    15967.0  17503.0  22674.0  22831.0  28371.0  24683.0  20889.0  15749.0   \n",
       "May    23375.0  24235.0  22234.0  13918.0  17859.0  19300.0  21891.0  27513.0   \n",
       "Sep    19961.0  28831.0  32631.0  38360.0  42319.0  40520.0  30134.0  30360.0   \n",
       "\n",
       "day         9        10  ...       22       23       24       25       26  \\\n",
       "month                    ...                                                \n",
       "Apr    16843.0  20041.0  ...  16975.0  20346.0  23352.0  25095.0  24925.0   \n",
       "Aug    26286.0  20584.0  ...  29512.0  27097.0  22036.0  22093.0  24550.0   \n",
       "Jul    27817.0  30541.0  ...  29029.0  34073.0  32050.0  29975.0  27708.0   \n",
       "Jun    23244.0  22874.0  ...  16322.0  17735.0  20779.0  26460.0  28516.0   \n",
       "May    26385.0  22550.0  ...  26802.0  26465.0  14651.0  10841.0  10202.0   \n",
       "Sep    34560.0  35910.0  ...  28312.0  30316.0  31301.0  38203.0  37504.0   \n",
       "\n",
       "day         27       28       29       30       31  \n",
       "month                                               \n",
       "Apr    14677.0  15475.0  22835.0  36251.0      NaN  \n",
       "Aug    27018.0  28597.0  27424.0  23930.0  23271.0  \n",
       "Jul    22590.0  23981.0  27589.0  30740.0  33541.0  \n",
       "Jun    24895.0  21208.0  17107.0  18395.0      NaN  \n",
       "May    17004.0  22240.0  24930.0  24413.0  21261.0  \n",
       "Sep    39468.0  29656.0  29201.0  33431.0      NaN  \n",
       "\n",
       "[6 rows x 31 columns]"
      ]
     },
     "execution_count": 42,
     "metadata": {},
     "output_type": "execute_result"
    }
   ],
   "source": [
    "day_mon = uber_df[['month', 'day', 'Date.Time']]\n",
    "day_mon = day_mon.groupby(['month', 'day']).agg('count')\n",
    "day_month = day_mon.pivot_table(index='day', columns='month', values='Date.Time')\n",
    "mon_day = day_mon.pivot_table(index='month', columns='day', values='Date.Time')\n",
    "mon_day"
   ]
  },
  {
   "cell_type": "code",
   "execution_count": 43,
   "metadata": {},
   "outputs": [
    {
     "data": {
      "image/png": "[encoded data removed]",
      "text/plain": [
       "<Figure size 432x288 with 1 Axes>"
      ]
     },
     "metadata": {
      "needs_background": "light"
     },
     "output_type": "display_data"
    }
   ],
   "source": [
    "day_month.plot(kind='bar', stacked=True)\n",
    "plt.legend(bbox_to_anchor=(1.05, 1), loc=2, borderaxespad=0.)\n",
    "plt.show()"
   ]
  },
  {
   "cell_type": "markdown",
   "metadata": {},
   "source": [
    "### Number of Trips in Hour during Months"
   ]
  },
  {
   "cell_type": "code",
   "execution_count": 49,
   "metadata": {},
   "outputs": [
    {
     "data": {
      "text/plain": [
       "<matplotlib.legend.Legend at 0x7fa952b1f990>"
      ]
     },
     "execution_count": 49,
     "metadata": {},
     "output_type": "execute_result"
    },
    {
     "data": {
      "image/png": "[encoded data removed]",
      "text/plain": [
       "<Figure size 432x288 with 1 Axes>"
      ]
     },
     "metadata": {
      "needs_background": "light"
     },
     "output_type": "display_data"
    }
   ],
   "source": [
    "fig, ax = plt.subplots()\n",
    "sns.countplot(x='month', data = uber_df, hue = 'hour')\n",
    "ax.set(title = 'Number of Trips in Hour during Months')\n",
    "plt.legend(bbox_to_anchor=(1.05, 1), loc=2, borderaxespad=0., ncol=2)"
   ]
  },
  {
   "cell_type": "code",
   "execution_count": 36,
   "metadata": {},
   "outputs": [
    {
     "data": {
      "text/html": [
       "<div>\n",
       "<style scoped>\n",
       "    .dataframe tbody tr th:only-of-type {\n",
       "        vertical-align: middle;\n",
       "    }\n",
       "\n",
       "    .dataframe tbody tr th {\n",
       "        vertical-align: top;\n",
       "    }\n",
       "\n",
       "    .dataframe thead th {\n",
       "        text-align: right;\n",
       "    }\n",
       "</style>\n",
       "<table border=\"1\" class=\"dataframe\">\n",
       "  <thead>\n",
       "    <tr style=\"text-align: right;\">\n",
       "      <th>hour</th>\n",
       "      <th>0</th>\n",
       "      <th>1</th>\n",
       "      <th>2</th>\n",
       "      <th>3</th>\n",
       "      <th>4</th>\n",
       "      <th>5</th>\n",
       "      <th>6</th>\n",
       "      <th>7</th>\n",
       "      <th>8</th>\n",
       "      <th>9</th>\n",
       "      <th>...</th>\n",
       "      <th>14</th>\n",
       "      <th>15</th>\n",
       "      <th>16</th>\n",
       "      <th>17</th>\n",
       "      <th>18</th>\n",
       "      <th>19</th>\n",
       "      <th>20</th>\n",
       "      <th>21</th>\n",
       "      <th>22</th>\n",
       "      <th>23</th>\n",
       "    </tr>\n",
       "    <tr>\n",
       "      <th>month</th>\n",
       "      <th></th>\n",
       "      <th></th>\n",
       "      <th></th>\n",
       "      <th></th>\n",
       "      <th></th>\n",
       "      <th></th>\n",
       "      <th></th>\n",
       "      <th></th>\n",
       "      <th></th>\n",
       "      <th></th>\n",
       "      <th></th>\n",
       "      <th></th>\n",
       "      <th></th>\n",
       "      <th></th>\n",
       "      <th></th>\n",
       "      <th></th>\n",
       "      <th></th>\n",
       "      <th></th>\n",
       "      <th></th>\n",
       "      <th></th>\n",
       "      <th></th>\n",
       "    </tr>\n",
       "  </thead>\n",
       "  <tbody>\n",
       "    <tr>\n",
       "      <th>Apr</th>\n",
       "      <td>11910</td>\n",
       "      <td>7769</td>\n",
       "      <td>4935</td>\n",
       "      <td>5040</td>\n",
       "      <td>6095</td>\n",
       "      <td>9476</td>\n",
       "      <td>18498</td>\n",
       "      <td>24924</td>\n",
       "      <td>22843</td>\n",
       "      <td>17939</td>\n",
       "      <td>...</td>\n",
       "      <td>27190</td>\n",
       "      <td>35324</td>\n",
       "      <td>42003</td>\n",
       "      <td>45475</td>\n",
       "      <td>43003</td>\n",
       "      <td>38923</td>\n",
       "      <td>36244</td>\n",
       "      <td>36964</td>\n",
       "      <td>30645</td>\n",
       "      <td>20649</td>\n",
       "    </tr>\n",
       "    <tr>\n",
       "      <th>Aug</th>\n",
       "      <td>21451</td>\n",
       "      <td>14471</td>\n",
       "      <td>10105</td>\n",
       "      <td>10376</td>\n",
       "      <td>11774</td>\n",
       "      <td>16525</td>\n",
       "      <td>24907</td>\n",
       "      <td>34064</td>\n",
       "      <td>34566</td>\n",
       "      <td>30195</td>\n",
       "      <td>...</td>\n",
       "      <td>40644</td>\n",
       "      <td>48197</td>\n",
       "      <td>53481</td>\n",
       "      <td>57122</td>\n",
       "      <td>55390</td>\n",
       "      <td>53008</td>\n",
       "      <td>51674</td>\n",
       "      <td>51354</td>\n",
       "      <td>46008</td>\n",
       "      <td>33609</td>\n",
       "    </tr>\n",
       "    <tr>\n",
       "      <th>Jul</th>\n",
       "      <td>17953</td>\n",
       "      <td>11527</td>\n",
       "      <td>8562</td>\n",
       "      <td>9199</td>\n",
       "      <td>10040</td>\n",
       "      <td>14932</td>\n",
       "      <td>23456</td>\n",
       "      <td>32545</td>\n",
       "      <td>33387</td>\n",
       "      <td>28486</td>\n",
       "      <td>...</td>\n",
       "      <td>41357</td>\n",
       "      <td>46053</td>\n",
       "      <td>52403</td>\n",
       "      <td>58260</td>\n",
       "      <td>57268</td>\n",
       "      <td>52332</td>\n",
       "      <td>51859</td>\n",
       "      <td>49528</td>\n",
       "      <td>42218</td>\n",
       "      <td>29346</td>\n",
       "    </tr>\n",
       "    <tr>\n",
       "      <th>Jun</th>\n",
       "      <td>14514</td>\n",
       "      <td>9167</td>\n",
       "      <td>6189</td>\n",
       "      <td>6937</td>\n",
       "      <td>7701</td>\n",
       "      <td>11955</td>\n",
       "      <td>22030</td>\n",
       "      <td>30834</td>\n",
       "      <td>29771</td>\n",
       "      <td>24298</td>\n",
       "      <td>...</td>\n",
       "      <td>34428</td>\n",
       "      <td>41586</td>\n",
       "      <td>48162</td>\n",
       "      <td>50452</td>\n",
       "      <td>45013</td>\n",
       "      <td>38203</td>\n",
       "      <td>40108</td>\n",
       "      <td>40791</td>\n",
       "      <td>35614</td>\n",
       "      <td>24182</td>\n",
       "    </tr>\n",
       "    <tr>\n",
       "      <th>May</th>\n",
       "      <td>13875</td>\n",
       "      <td>8186</td>\n",
       "      <td>5372</td>\n",
       "      <td>5946</td>\n",
       "      <td>6945</td>\n",
       "      <td>10789</td>\n",
       "      <td>21015</td>\n",
       "      <td>27413</td>\n",
       "      <td>25460</td>\n",
       "      <td>20507</td>\n",
       "      <td>...</td>\n",
       "      <td>34363</td>\n",
       "      <td>43087</td>\n",
       "      <td>49127</td>\n",
       "      <td>51508</td>\n",
       "      <td>48965</td>\n",
       "      <td>42387</td>\n",
       "      <td>40731</td>\n",
       "      <td>42217</td>\n",
       "      <td>35556</td>\n",
       "      <td>24836</td>\n",
       "    </tr>\n",
       "    <tr>\n",
       "      <th>Sep</th>\n",
       "      <td>24133</td>\n",
       "      <td>16107</td>\n",
       "      <td>10702</td>\n",
       "      <td>10789</td>\n",
       "      <td>12675</td>\n",
       "      <td>20262</td>\n",
       "      <td>33307</td>\n",
       "      <td>43314</td>\n",
       "      <td>44477</td>\n",
       "      <td>38542</td>\n",
       "      <td>...</td>\n",
       "      <td>52643</td>\n",
       "      <td>61219</td>\n",
       "      <td>68224</td>\n",
       "      <td>73373</td>\n",
       "      <td>75040</td>\n",
       "      <td>69660</td>\n",
       "      <td>63988</td>\n",
       "      <td>60606</td>\n",
       "      <td>51817</td>\n",
       "      <td>36568</td>\n",
       "    </tr>\n",
       "  </tbody>\n",
       "</table>\n",
       "<p>6 rows × 24 columns</p>\n",
       "</div>"
      ],
      "text/plain": [
       "hour      0      1      2      3      4      5      6      7      8      9   \\\n",
       "month                                                                         \n",
       "Apr    11910   7769   4935   5040   6095   9476  18498  24924  22843  17939   \n",
       "Aug    21451  14471  10105  10376  11774  16525  24907  34064  34566  30195   \n",
       "Jul    17953  11527   8562   9199  10040  14932  23456  32545  33387  28486   \n",
       "Jun    14514   9167   6189   6937   7701  11955  22030  30834  29771  24298   \n",
       "May    13875   8186   5372   5946   6945  10789  21015  27413  25460  20507   \n",
       "Sep    24133  16107  10702  10789  12675  20262  33307  43314  44477  38542   \n",
       "\n",
       "hour   ...     14     15     16     17     18     19     20     21     22  \\\n",
       "month  ...                                                                  \n",
       "Apr    ...  27190  35324  42003  45475  43003  38923  36244  36964  30645   \n",
       "Aug    ...  40644  48197  53481  57122  55390  53008  51674  51354  46008   \n",
       "Jul    ...  41357  46053  52403  58260  57268  52332  51859  49528  42218   \n",
       "Jun    ...  34428  41586  48162  50452  45013  38203  40108  40791  35614   \n",
       "May    ...  34363  43087  49127  51508  48965  42387  40731  42217  35556   \n",
       "Sep    ...  52643  61219  68224  73373  75040  69660  63988  60606  51817   \n",
       "\n",
       "hour      23  \n",
       "month         \n",
       "Apr    20649  \n",
       "Aug    33609  \n",
       "Jul    29346  \n",
       "Jun    24182  \n",
       "May    24836  \n",
       "Sep    36568  \n",
       "\n",
       "[6 rows x 24 columns]"
      ]
     },
     "execution_count": 36,
     "metadata": {},
     "output_type": "execute_result"
    }
   ],
   "source": [
    "hour_mon = uber_df[['month', 'hour', 'Date.Time']]\n",
    "hour_mon = hour_mon.groupby(['month', 'hour']).agg('count')\n",
    "hour_month = hour_mon.pivot_table(index='hour', columns='month', values='Date.Time')\n",
    "month_hour = hour_mon.pivot_table(index='month', columns='hour', values='Date.Time')\n",
    "month_hour"
   ]
  },
  {
   "cell_type": "code",
   "execution_count": 44,
   "metadata": {},
   "outputs": [
    {
     "data": {
      "image/png": "[encoded data removed]",
      "text/plain": [
       "<Figure size 432x288 with 1 Axes>"
      ]
     },
     "metadata": {
      "needs_background": "light"
     },
     "output_type": "display_data"
    }
   ],
   "source": [
    "hour_month.plot(kind='bar', stacked=True)\n",
    "plt.legend(bbox_to_anchor=(1.05, 1), loc=2, borderaxespad=0.)\n",
    "plt.show()"
   ]
  },
  {
   "cell_type": "markdown",
   "metadata": {},
   "source": [
    "### Heatmap Visualization of Hour, Day, Day of Week and Month"
   ]
  },
  {
   "cell_type": "markdown",
   "metadata": {},
   "source": [
    "Heatmap by Hour and Day."
   ]
  },
  {
   "cell_type": "code",
   "execution_count": 32,
   "metadata": {},
   "outputs": [
    {
     "data": {
      "text/plain": [
       "[Text(0.5, 1.0, 'Heatmap by Hour and Day')]"
      ]
     },
     "execution_count": 32,
     "metadata": {},
     "output_type": "execute_result"
    },
    {
     "data": {
      "image/png": "[encoded data removed]",
      "text/plain": [
       "<Figure size 432x288 with 2 Axes>"
      ]
     },
     "metadata": {
      "needs_background": "light"
     },
     "output_type": "display_data"
    }
   ],
   "source": [
    "hour_day = uber_df[['day', 'hour', 'Date.Time']]\n",
    "hour_day = hour_day.groupby(['day', 'hour']).agg('count')\n",
    "hour_day = hour_day.pivot_table(index='hour', columns='day', values='Date.Time')\n",
    "\n",
    "fig, ax = plt.subplots()\n",
    "sns.heatmap(hour_day)\n",
    "ax.set(title = 'Heatmap by Hour and Day')"
   ]
  },
  {
   "cell_type": "markdown",
   "metadata": {},
   "source": [
    "Heatmap by Month and Day."
   ]
  },
  {
   "cell_type": "code",
   "execution_count": 33,
   "metadata": {},
   "outputs": [
    {
     "data": {
      "text/plain": [
       "[Text(0.5, 1.0, 'Heatmap by Month and Day')]"
      ]
     },
     "execution_count": 33,
     "metadata": {},
     "output_type": "execute_result"
    },
    {
     "data": {
      "image/png": "[encoded data removed]",
      "text/plain": [
       "<Figure size 432x288 with 2 Axes>"
      ]
     },
     "metadata": {
      "needs_background": "light"
     },
     "output_type": "display_data"
    }
   ],
   "source": [
    "month_day = uber_df[['day', 'month', 'Date.Time']]\n",
    "month_day = month_day.groupby(['day', 'month']).agg('count')\n",
    "month_day = month_day.pivot_table(index='month', columns='day', values='Date.Time')\n",
    "\n",
    "fig, ax = plt.subplots()\n",
    "sns.heatmap(month_day)\n",
    "ax.set(title = 'Heatmap by Month and Day')"
   ]
  },
  {
   "cell_type": "markdown",
   "metadata": {},
   "source": [
    "Heatmap by Month and Day of the Week."
   ]
  },
  {
   "cell_type": "code",
   "execution_count": 34,
   "metadata": {},
   "outputs": [
    {
     "data": {
      "text/plain": [
       "[Text(0.5, 1.0, 'Heatmap by Month and Day of the Week')]"
      ]
     },
     "execution_count": 34,
     "metadata": {},
     "output_type": "execute_result"
    },
    {
     "data": {
      "image/png": "[encoded data removed]",
      "text/plain": [
       "<Figure size 432x288 with 2 Axes>"
      ]
     },
     "metadata": {
      "needs_background": "light"
     },
     "output_type": "display_data"
    }
   ],
   "source": [
    "fig, ax = plt.subplots()\n",
    "sns.heatmap(week_month)\n",
    "ax.set(title = 'Heatmap by Month and Day of the Week')"
   ]
  },
  {
   "cell_type": "markdown",
   "metadata": {},
   "source": [
    "Heatmap by Hour and Month."
   ]
  },
  {
   "cell_type": "code",
   "execution_count": 37,
   "metadata": {},
   "outputs": [
    {
     "data": {
      "text/plain": [
       "[Text(0.5, 1.0, 'Heatmap by Hour and Month')]"
      ]
     },
     "execution_count": 37,
     "metadata": {},
     "output_type": "execute_result"
    },
    {
     "data": {
      "image/png": "[encoded data removed]",
      "text/plain": [
       "<Figure size 432x288 with 2 Axes>"
      ]
     },
     "metadata": {
      "needs_background": "light"
     },
     "output_type": "display_data"
    }
   ],
   "source": [
    "fig, ax = plt.subplots()\n",
    "sns.heatmap(hour_month)\n",
    "ax.set(title = 'Heatmap by Hour and Month')"
   ]
  }
 ],
 "metadata": {
  "kernelspec": {
   "display_name": "Python 3",
   "language": "python",
   "name": "python3"
  },
  "language_info": {
   "codemirror_mode": {
    "name": "ipython",
    "version": 3
   },
   "file_extension": ".py",
   "mimetype": "text/x-python",
   "name": "python",
   "nbconvert_exporter": "python",
   "pygments_lexer": "ipython3",
   "version": "3.7.6"
  }
 },
 "nbformat": 4,
 "nbformat_minor": 4
}
